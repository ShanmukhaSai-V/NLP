{
 "cells": [
  {
   "cell_type": "code",
   "execution_count": 1,
   "metadata": {
    "colab": {
     "base_uri": "https://localhost:8080/"
    },
    "id": "VeYNjfiGK3Hb",
    "outputId": "fd57f540-6764-4a0e-b1b8-0c2264f759f4"
   },
   "outputs": [
    {
     "name": "stderr",
     "output_type": "stream",
     "text": [
      "[nltk_data] Downloading package punkt to\n",
      "[nltk_data]     C:\\Users\\shanm\\AppData\\Roaming\\nltk_data...\n",
      "[nltk_data]   Package punkt is already up-to-date!\n",
      "[nltk_data] Downloading package stopwords to\n",
      "[nltk_data]     C:\\Users\\shanm\\AppData\\Roaming\\nltk_data...\n",
      "[nltk_data]   Package stopwords is already up-to-date!\n",
      "[nltk_data] Downloading package wordnet to\n",
      "[nltk_data]     C:\\Users\\shanm\\AppData\\Roaming\\nltk_data...\n",
      "[nltk_data]   Package wordnet is already up-to-date!\n",
      "[nltk_data] Downloading package averaged_perceptron_tagger to\n",
      "[nltk_data]     C:\\Users\\shanm\\AppData\\Roaming\\nltk_data...\n",
      "[nltk_data]   Package averaged_perceptron_tagger is already up-to-\n",
      "[nltk_data]       date!\n"
     ]
    },
    {
     "data": {
      "text/plain": [
       "True"
      ]
     },
     "execution_count": 1,
     "metadata": {},
     "output_type": "execute_result"
    }
   ],
   "source": [
    "import nltk\n",
    "import string\n",
    "from nltk import word_tokenize\n",
    "from nltk import wordpunct_tokenize\n",
    "from nltk.corpus import stopwords\n",
    "from string import punctuation\n",
    "from nltk.stem.wordnet import WordNetLemmatizer\n",
    "from nltk.stem.porter import PorterStemmer\n",
    "from nltk import pos_tag\n",
    "from nltk.corpus import wordnet\n",
    "from nltk.stem import SnowballStemmer\n",
    "from nltk import ngrams\n",
    "\n",
    "nltk.download('punkt')\n",
    "nltk.download('stopwords')\n",
    "nltk.download('wordnet')\n",
    "nltk.download('averaged_perceptron_tagger')\n"
   ]
  },
  {
   "cell_type": "code",
   "execution_count": 2,
   "metadata": {
    "id": "6516k6JKLtJk"
   },
   "outputs": [
    {
     "name": "stdout",
     "output_type": "stream",
     "text": [
      "The history of natural language processing generally started in the 1950s, although work can be found from earlier periods. In 1950, Alan Turing published an article titled \"Intelligence\" which proposed what is now called the Turing test as a criterion of intelligence.\n",
      "#The Georgetown experiment in 1954 involved fully automatic translation of more than sixty Russian sentences into English. The authors claimed that within three or five years, machine translation would be a solved problem.[2] However, real progress was much slower, and after the ALPAC report in 1966, which found that ten-year-long research had failed to fulfill the expectations, funding for machine translation was dramatically reduced. Little further research in machine translation was conducted until the late 1980s, when the first statistical machine translation systems were developed.\n",
      "#Some notably successful natural language processing systems developed in the 1960s were SHRDLU, a natural language system working in restricted \"blocks worlds\" with restricted vocabularies, and ELIZA, a simulation of a Rogerian psychotherapist, written by Joseph Weizenbaum between 1964 and 1966. Using almost no information about human thought or emotion, ELIZA sometimes provided a startlingly human-like interaction. When the \"patient\" exceeded the very small knowledge base, ELIZA might provide a generic response, for example, responding to \"My head hurts\" with \"Why do you say your head hurts?\".During the 1970s, many programmers began to write \"conceptual ontologies\", which structured real-world information into computer-understandable data. Examples are MARGIE (Schank, 1975), SAM (Cullingford, 1978), PAM (Wilensky, 1978), TaleSpin (Meehan, 1976), QUALM (Lehnert, 1977), Politics (Carbonell, 1979), and Plot Units (Lehnert 1981). During this time, many chatterbots were written including PARRY, Racter, and Jabberwacky.\n",
      "#Up to the 1980s, most natural language processing systems were based on complex sets of hand-written rules. Starting in the late 1980s, however, there was a revolution in natural language processing with the introduction of machine learning algorithms for language processing. This was due to both the steady increase in computational power (see Moore's law) and the gradual lessening of the dominance of Chomskyan theories of linguistics (e.g. transformational grammar), whose theoretical underpinnings discouraged the sort of corpus linguistics that underlies the machine-learning approach to language processing.[3] Some of the earliest-used machine learning algorithms, such as decision trees, produced systems of hard if-then rules similar to existing hand-written rules. However, part-of-speech tagging introduced the use of hidden Markov models to natural language processing, and increasingly, research has focused on statistical models, which make soft, probabilistic decisions based on attaching real-valued weights to the features making up the input data. The cache language models upon which many speech recognition systems now rely are examples of such statistical models. Such models are generally more robust when given unfamiliar input, especially input that contains errors (as is very common for real-world data), and produce more reliable results when integrated into a larger system comprising multiple subtasks.\n"
     ]
    }
   ],
   "source": [
    "text=\"\"\"The history of natural language processing generally started in the 1950s, although work can be found from earlier periods. In 1950, Alan Turing published an article titled \"Intelligence\" which proposed what is now called the Turing test as a criterion of intelligence.\n",
    "#The Georgetown experiment in 1954 involved fully automatic translation of more than sixty Russian sentences into English. The authors claimed that within three or five years, machine translation would be a solved problem.[2] However, real progress was much slower, and after the ALPAC report in 1966, which found that ten-year-long research had failed to fulfill the expectations, funding for machine translation was dramatically reduced. Little further research in machine translation was conducted until the late 1980s, when the first statistical machine translation systems were developed.\n",
    "#Some notably successful natural language processing systems developed in the 1960s were SHRDLU, a natural language system working in restricted \"blocks worlds\" with restricted vocabularies, and ELIZA, a simulation of a Rogerian psychotherapist, written by Joseph Weizenbaum between 1964 and 1966. Using almost no information about human thought or emotion, ELIZA sometimes provided a startlingly human-like interaction. When the \"patient\" exceeded the very small knowledge base, ELIZA might provide a generic response, for example, responding to \"My head hurts\" with \"Why do you say your head hurts?\".During the 1970s, many programmers began to write \"conceptual ontologies\", which structured real-world information into computer-understandable data. Examples are MARGIE (Schank, 1975), SAM (Cullingford, 1978), PAM (Wilensky, 1978), TaleSpin (Meehan, 1976), QUALM (Lehnert, 1977), Politics (Carbonell, 1979), and Plot Units (Lehnert 1981). During this time, many chatterbots were written including PARRY, Racter, and Jabberwacky.\n",
    "#Up to the 1980s, most natural language processing systems were based on complex sets of hand-written rules. Starting in the late 1980s, however, there was a revolution in natural language processing with the introduction of machine learning algorithms for language processing. This was due to both the steady increase in computational power (see Moore's law) and the gradual lessening of the dominance of Chomskyan theories of linguistics (e.g. transformational grammar), whose theoretical underpinnings discouraged the sort of corpus linguistics that underlies the machine-learning approach to language processing.[3] Some of the earliest-used machine learning algorithms, such as decision trees, produced systems of hard if-then rules similar to existing hand-written rules. However, part-of-speech tagging introduced the use of hidden Markov models to natural language processing, and increasingly, research has focused on statistical models, which make soft, probabilistic decisions based on attaching real-valued weights to the features making up the input data. The cache language models upon which many speech recognition systems now rely are examples of such statistical models. Such models are generally more robust when given unfamiliar input, especially input that contains errors (as is very common for real-world data), and produce more reliable results when integrated into a larger system comprising multiple subtasks.\"\"\"\n",
    "\n",
    "#with open(\"C:\\\\Users\\\\shanm\\\\OneDrive\\\\Desktop\\\\Ops_NLP.txt\",'r') as file:\n",
    "    #text = file.read()\n",
    "print(text)"
   ]
  },
  {
   "cell_type": "code",
   "execution_count": 3,
   "metadata": {
    "colab": {
     "base_uri": "https://localhost:8080/"
    },
    "id": "LrsJEat9L51O",
    "outputId": "70f925bf-9770-42a9-c7aa-e726278bb1e1"
   },
   "outputs": [
    {
     "name": "stdout",
     "output_type": "stream",
     "text": [
      "The history of natural language processing generally started in the 1950s, although work can be found from earlier periods. In 1950, Alan Turing published an article titled \"Intelligence\" which proposed what is now called the Turing test as a criterion of intelligence.\n",
      "#The Georgetown experiment in 1954 involved fully automatic translation of more than sixty Russian sentences into English. The authors claimed that within three or five years, machine translation would be a solved problem.[2] However, real progress was much slower, and after the ALPAC report in 1966, which found that ten-year-long research had failed to fulfill the expectations, funding for machine translation was dramatically reduced. Little further research in machine translation was conducted until the late 1980s, when the first statistical machine translation systems were developed.\n",
      "#Some notably successful natural language processing systems developed in the 1960s were SHRDLU, a natural language system working in restricted \"blocks worlds\" with restricted vocabularies, and ELIZA, a simulation of a Rogerian psychotherapist, written by Joseph Weizenbaum between 1964 and 1966. Using almost no information about human thought or emotion, ELIZA sometimes provided a startlingly human-like interaction. When the \"patient\" exceeded the very small knowledge base, ELIZA might provide a generic response, for example, responding to \"My head hurts\" with \"Why do you say your head hurts?\".During the 1970s, many programmers began to write \"conceptual ontologies\", which structured real-world information into computer-understandable data. Examples are MARGIE (Schank, 1975), SAM (Cullingford, 1978), PAM (Wilensky, 1978), TaleSpin (Meehan, 1976), QUALM (Lehnert, 1977), Politics (Carbonell, 1979), and Plot Units (Lehnert 1981). During this time, many chatterbots were written including PARRY, Racter, and Jabberwacky.\n",
      "#Up to the 1980s, most natural language processing systems were based on complex sets of hand-written rules. Starting in the late 1980s, however, there was a revolution in natural language processing with the introduction of machine learning algorithms for language processing. This was due to both the steady increase in computational power (see Moore's law) and the gradual lessening of the dominance of Chomskyan theories of linguistics (e.g. transformational grammar), whose theoretical underpinnings discouraged the sort of corpus linguistics that underlies the machine-learning approach to language processing.[3] Some of the earliest-used machine learning algorithms, such as decision trees, produced systems of hard if-then rules similar to existing hand-written rules. However, part-of-speech tagging introduced the use of hidden Markov models to natural language processing, and increasingly, research has focused on statistical models, which make soft, probabilistic decisions based on attaching real-valued weights to the features making up the input data. The cache language models upon which many speech recognition systems now rely are examples of such statistical models. Such models are generally more robust when given unfamiliar input, especially input that contains errors (as is very common for real-world data), and produce more reliable results when integrated into a larger system comprising multiple subtasks.\n",
      "The history of natural language processing generally started in the 1950s, although work can be found from earlier periods. In 1950, Alan Turing published an article titled \"Intelligence\" which proposed what is now called the Turing test as a criterion of intelligence.\n",
      "#The Georgetown experiment in 1954 involved fully automatic translation of more than sixty Russian sentences into English. The authors claimed that within three or five years, machine translation would be a solved problem.[2] However, real progress was much slower, and after the ALPAC report in 1966, which found that ten-year-long research had failed to fulfill the expectations, funding for machine translation was dramatically reduced. Little further research in machine translation was conducted until the late 1980s, when the first statistical machine translation systems were developed.\n",
      "#Some notably successful natural language processing systems developed in the 1960s were SHRDLU, a natural language system working in restricted \"blocks worlds\" with restricted vocabularies, and ELIZA, a simulation of a Rogerian psychotherapist, written by Joseph Weizenbaum between 1964 and 1966. Using almost no information about human thought or emotion, ELIZA sometimes provided a startlingly human-like interaction. When the \"patient\" exceeded the very small knowledge base, ELIZA might provide a generic response, for example, responding to \"My head hurts\" with \"Why do you say your head hurts?\".During the 1970s, many programmers began to write \"conceptual ontologies\", which structured real-world information into computer-understandable data. Examples are MARGIE (Schank, 1975), SAM (Cullingford, 1978), PAM (Wilensky, 1978), TaleSpin (Meehan, 1976), QUALM (Lehnert, 1977), Politics (Carbonell, 1979), and Plot Units (Lehnert 1981). During this time, many chatterbots were written including PARRY, Racter, and Jabberwacky.\n",
      "#Up to the 1980s, most natural language processing systems were based on complex sets of hand-written rules. Starting in the late 1980s, however, there was a revolution in natural language processing with the introduction of machine learning algorithms for language processing. This was due to both the steady increase in computational power (see Moore's law) and the gradual lessening of the dominance of Chomskyan theories of linguistics (e.g. transformational grammar), whose theoretical underpinnings discouraged the sort of corpus linguistics that underlies the machine-learning approach to language processing.[3] Some of the earliest-used machine learning algorithms, such as decision trees, produced systems of hard if-then rules similar to existing hand-written rules. However, part-of-speech tagging introduced the use of hidden Markov models to natural language processing, and increasingly, research has focused on statistical models, which make soft, probabilistic decisions based on attaching real-valued weights to the features making up the input data. The cache language models upon which many speech recognition systems now rely are examples of such statistical models. Such models are generally more robust when given unfamiliar input, especially input that contains errors (as is very common for real-world data), and produce more reliable results when integrated into a larger system comprising multiple subtasks.\n"
     ]
    }
   ],
   "source": [
    "#Trimming of data\n",
    "print(text)\n",
    "\n",
    "trimmed_text = text.strip()\n",
    "print(trimmed_text)"
   ]
  },
  {
   "cell_type": "code",
   "execution_count": 4,
   "metadata": {
    "colab": {
     "base_uri": "https://localhost:8080/"
    },
    "id": "Z7cYhgDRU-9H",
    "outputId": "0765c4a2-fafc-43b1-fe6b-5f54eccab862"
   },
   "outputs": [
    {
     "name": "stdout",
     "output_type": "stream",
     "text": [
      "the history of natural language processing generally started in the 1950s, although work can be found from earlier periods. in 1950, alan turing published an article titled \"intelligence\" which proposed what is now called the turing test as a criterion of intelligence.\n",
      "#the georgetown experiment in 1954 involved fully automatic translation of more than sixty russian sentences into english. the authors claimed that within three or five years, machine translation would be a solved problem.[2] however, real progress was much slower, and after the alpac report in 1966, which found that ten-year-long research had failed to fulfill the expectations, funding for machine translation was dramatically reduced. little further research in machine translation was conducted until the late 1980s, when the first statistical machine translation systems were developed.\n",
      "#some notably successful natural language processing systems developed in the 1960s were shrdlu, a natural language system working in restricted \"blocks worlds\" with restricted vocabularies, and eliza, a simulation of a rogerian psychotherapist, written by joseph weizenbaum between 1964 and 1966. using almost no information about human thought or emotion, eliza sometimes provided a startlingly human-like interaction. when the \"patient\" exceeded the very small knowledge base, eliza might provide a generic response, for example, responding to \"my head hurts\" with \"why do you say your head hurts?\".during the 1970s, many programmers began to write \"conceptual ontologies\", which structured real-world information into computer-understandable data. examples are margie (schank, 1975), sam (cullingford, 1978), pam (wilensky, 1978), talespin (meehan, 1976), qualm (lehnert, 1977), politics (carbonell, 1979), and plot units (lehnert 1981). during this time, many chatterbots were written including parry, racter, and jabberwacky.\n",
      "#up to the 1980s, most natural language processing systems were based on complex sets of hand-written rules. starting in the late 1980s, however, there was a revolution in natural language processing with the introduction of machine learning algorithms for language processing. this was due to both the steady increase in computational power (see moore's law) and the gradual lessening of the dominance of chomskyan theories of linguistics (e.g. transformational grammar), whose theoretical underpinnings discouraged the sort of corpus linguistics that underlies the machine-learning approach to language processing.[3] some of the earliest-used machine learning algorithms, such as decision trees, produced systems of hard if-then rules similar to existing hand-written rules. however, part-of-speech tagging introduced the use of hidden markov models to natural language processing, and increasingly, research has focused on statistical models, which make soft, probabilistic decisions based on attaching real-valued weights to the features making up the input data. the cache language models upon which many speech recognition systems now rely are examples of such statistical models. such models are generally more robust when given unfamiliar input, especially input that contains errors (as is very common for real-world data), and produce more reliable results when integrated into a larger system comprising multiple subtasks.\n"
     ]
    }
   ],
   "source": [
    "#Converting into lower case\n",
    "lower_case = trimmed_text.lower()\n",
    "print(lower_case)"
   ]
  },
  {
   "cell_type": "code",
   "execution_count": 5,
   "metadata": {
    "colab": {
     "base_uri": "https://localhost:8080/",
     "height": 321
    },
    "id": "5zCGDBCamNte",
    "outputId": "38002007-b93c-448c-ce79-cb763996a9e3"
   },
   "outputs": [
    {
     "name": "stdout",
     "output_type": "stream",
     "text": [
      "['the', 'history', 'of', 'natural', 'language', 'processing', 'generally', 'started', 'in', 'the', '1950s', ',', 'although', 'work', 'can', 'be', 'found', 'from', 'earlier', 'periods', '.', 'in', '1950', ',', 'alan', 'turing', 'published', 'an', 'article', 'titled', '``', 'intelligence', \"''\", 'which', 'proposed', 'what', 'is', 'now', 'called', 'the', 'turing', 'test', 'as', 'a', 'criterion', 'of', 'intelligence', '.', '#', 'the', 'georgetown', 'experiment', 'in', '1954', 'involved', 'fully', 'automatic', 'translation', 'of', 'more', 'than', 'sixty', 'russian', 'sentences', 'into', 'english', '.', 'the', 'authors', 'claimed', 'that', 'within', 'three', 'or', 'five', 'years', ',', 'machine', 'translation', 'would', 'be', 'a', 'solved', 'problem', '.', '[', '2', ']', 'however', ',', 'real', 'progress', 'was', 'much', 'slower', ',', 'and', 'after', 'the', 'alpac', 'report', 'in', '1966', ',', 'which', 'found', 'that', 'ten-year-long', 'research', 'had', 'failed', 'to', 'fulfill', 'the', 'expectations', ',', 'funding', 'for', 'machine', 'translation', 'was', 'dramatically', 'reduced', '.', 'little', 'further', 'research', 'in', 'machine', 'translation', 'was', 'conducted', 'until', 'the', 'late', '1980s', ',', 'when', 'the', 'first', 'statistical', 'machine', 'translation', 'systems', 'were', 'developed', '.', '#', 'some', 'notably', 'successful', 'natural', 'language', 'processing', 'systems', 'developed', 'in', 'the', '1960s', 'were', 'shrdlu', ',', 'a', 'natural', 'language', 'system', 'working', 'in', 'restricted', '``', 'blocks', 'worlds', \"''\", 'with', 'restricted', 'vocabularies', ',', 'and', 'eliza', ',', 'a', 'simulation', 'of', 'a', 'rogerian', 'psychotherapist', ',', 'written', 'by', 'joseph', 'weizenbaum', 'between', '1964', 'and', '1966.', 'using', 'almost', 'no', 'information', 'about', 'human', 'thought', 'or', 'emotion', ',', 'eliza', 'sometimes', 'provided', 'a', 'startlingly', 'human-like', 'interaction', '.', 'when', 'the', '``', 'patient', \"''\", 'exceeded', 'the', 'very', 'small', 'knowledge', 'base', ',', 'eliza', 'might', 'provide', 'a', 'generic', 'response', ',', 'for', 'example', ',', 'responding', 'to', '``', 'my', 'head', 'hurts', \"''\", 'with', '``', 'why', 'do', 'you', 'say', 'your', 'head', 'hurts', '?', '``', '.during', 'the', '1970s', ',', 'many', 'programmers', 'began', 'to', 'write', '``', 'conceptual', 'ontologies', \"''\", ',', 'which', 'structured', 'real-world', 'information', 'into', 'computer-understandable', 'data', '.', 'examples', 'are', 'margie', '(', 'schank', ',', '1975', ')', ',', 'sam', '(', 'cullingford', ',', '1978', ')', ',', 'pam', '(', 'wilensky', ',', '1978', ')', ',', 'talespin', '(', 'meehan', ',', '1976', ')', ',', 'qualm', '(', 'lehnert', ',', '1977', ')', ',', 'politics', '(', 'carbonell', ',', '1979', ')', ',', 'and', 'plot', 'units', '(', 'lehnert', '1981', ')', '.', 'during', 'this', 'time', ',', 'many', 'chatterbots', 'were', 'written', 'including', 'parry', ',', 'racter', ',', 'and', 'jabberwacky', '.', '#', 'up', 'to', 'the', '1980s', ',', 'most', 'natural', 'language', 'processing', 'systems', 'were', 'based', 'on', 'complex', 'sets', 'of', 'hand-written', 'rules', '.', 'starting', 'in', 'the', 'late', '1980s', ',', 'however', ',', 'there', 'was', 'a', 'revolution', 'in', 'natural', 'language', 'processing', 'with', 'the', 'introduction', 'of', 'machine', 'learning', 'algorithms', 'for', 'language', 'processing', '.', 'this', 'was', 'due', 'to', 'both', 'the', 'steady', 'increase', 'in', 'computational', 'power', '(', 'see', 'moore', \"'s\", 'law', ')', 'and', 'the', 'gradual', 'lessening', 'of', 'the', 'dominance', 'of', 'chomskyan', 'theories', 'of', 'linguistics', '(', 'e.g', '.', 'transformational', 'grammar', ')', ',', 'whose', 'theoretical', 'underpinnings', 'discouraged', 'the', 'sort', 'of', 'corpus', 'linguistics', 'that', 'underlies', 'the', 'machine-learning', 'approach', 'to', 'language', 'processing', '.', '[', '3', ']', 'some', 'of', 'the', 'earliest-used', 'machine', 'learning', 'algorithms', ',', 'such', 'as', 'decision', 'trees', ',', 'produced', 'systems', 'of', 'hard', 'if-then', 'rules', 'similar', 'to', 'existing', 'hand-written', 'rules', '.', 'however', ',', 'part-of-speech', 'tagging', 'introduced', 'the', 'use', 'of', 'hidden', 'markov', 'models', 'to', 'natural', 'language', 'processing', ',', 'and', 'increasingly', ',', 'research', 'has', 'focused', 'on', 'statistical', 'models', ',', 'which', 'make', 'soft', ',', 'probabilistic', 'decisions', 'based', 'on', 'attaching', 'real-valued', 'weights', 'to', 'the', 'features', 'making', 'up', 'the', 'input', 'data', '.', 'the', 'cache', 'language', 'models', 'upon', 'which', 'many', 'speech', 'recognition', 'systems', 'now', 'rely', 'are', 'examples', 'of', 'such', 'statistical', 'models', '.', 'such', 'models', 'are', 'generally', 'more', 'robust', 'when', 'given', 'unfamiliar', 'input', ',', 'especially', 'input', 'that', 'contains', 'errors', '(', 'as', 'is', 'very', 'common', 'for', 'real-world', 'data', ')', ',', 'and', 'produce', 'more', 'reliable', 'results', 'when', 'integrated', 'into', 'a', 'larger', 'system', 'comprising', 'multiple', 'subtasks', '.']\n",
      "['the', 'history', 'of', 'natural', 'language', 'processing', 'generally', 'started', 'in', 'the', '1950s', ',', 'although', 'work', 'can', 'be', 'found', 'from', 'earlier', 'periods', '.', 'in', '1950', ',', 'alan', 'turing', 'published', 'an', 'article', 'titled', '\"', 'intelligence', '\"', 'which', 'proposed', 'what', 'is', 'now', 'called', 'the', 'turing', 'test', 'as', 'a', 'criterion', 'of', 'intelligence', '.', '#', 'the', 'georgetown', 'experiment', 'in', '1954', 'involved', 'fully', 'automatic', 'translation', 'of', 'more', 'than', 'sixty', 'russian', 'sentences', 'into', 'english', '.', 'the', 'authors', 'claimed', 'that', 'within', 'three', 'or', 'five', 'years', ',', 'machine', 'translation', 'would', 'be', 'a', 'solved', 'problem', '.[', '2', ']', 'however', ',', 'real', 'progress', 'was', 'much', 'slower', ',', 'and', 'after', 'the', 'alpac', 'report', 'in', '1966', ',', 'which', 'found', 'that', 'ten', '-', 'year', '-', 'long', 'research', 'had', 'failed', 'to', 'fulfill', 'the', 'expectations', ',', 'funding', 'for', 'machine', 'translation', 'was', 'dramatically', 'reduced', '.', 'little', 'further', 'research', 'in', 'machine', 'translation', 'was', 'conducted', 'until', 'the', 'late', '1980s', ',', 'when', 'the', 'first', 'statistical', 'machine', 'translation', 'systems', 'were', 'developed', '.', '#', 'some', 'notably', 'successful', 'natural', 'language', 'processing', 'systems', 'developed', 'in', 'the', '1960s', 'were', 'shrdlu', ',', 'a', 'natural', 'language', 'system', 'working', 'in', 'restricted', '\"', 'blocks', 'worlds', '\"', 'with', 'restricted', 'vocabularies', ',', 'and', 'eliza', ',', 'a', 'simulation', 'of', 'a', 'rogerian', 'psychotherapist', ',', 'written', 'by', 'joseph', 'weizenbaum', 'between', '1964', 'and', '1966', '.', 'using', 'almost', 'no', 'information', 'about', 'human', 'thought', 'or', 'emotion', ',', 'eliza', 'sometimes', 'provided', 'a', 'startlingly', 'human', '-', 'like', 'interaction', '.', 'when', 'the', '\"', 'patient', '\"', 'exceeded', 'the', 'very', 'small', 'knowledge', 'base', ',', 'eliza', 'might', 'provide', 'a', 'generic', 'response', ',', 'for', 'example', ',', 'responding', 'to', '\"', 'my', 'head', 'hurts', '\"', 'with', '\"', 'why', 'do', 'you', 'say', 'your', 'head', 'hurts', '?\".', 'during', 'the', '1970s', ',', 'many', 'programmers', 'began', 'to', 'write', '\"', 'conceptual', 'ontologies', '\",', 'which', 'structured', 'real', '-', 'world', 'information', 'into', 'computer', '-', 'understandable', 'data', '.', 'examples', 'are', 'margie', '(', 'schank', ',', '1975', '),', 'sam', '(', 'cullingford', ',', '1978', '),', 'pam', '(', 'wilensky', ',', '1978', '),', 'talespin', '(', 'meehan', ',', '1976', '),', 'qualm', '(', 'lehnert', ',', '1977', '),', 'politics', '(', 'carbonell', ',', '1979', '),', 'and', 'plot', 'units', '(', 'lehnert', '1981', ').', 'during', 'this', 'time', ',', 'many', 'chatterbots', 'were', 'written', 'including', 'parry', ',', 'racter', ',', 'and', 'jabberwacky', '.', '#', 'up', 'to', 'the', '1980s', ',', 'most', 'natural', 'language', 'processing', 'systems', 'were', 'based', 'on', 'complex', 'sets', 'of', 'hand', '-', 'written', 'rules', '.', 'starting', 'in', 'the', 'late', '1980s', ',', 'however', ',', 'there', 'was', 'a', 'revolution', 'in', 'natural', 'language', 'processing', 'with', 'the', 'introduction', 'of', 'machine', 'learning', 'algorithms', 'for', 'language', 'processing', '.', 'this', 'was', 'due', 'to', 'both', 'the', 'steady', 'increase', 'in', 'computational', 'power', '(', 'see', 'moore', \"'\", 's', 'law', ')', 'and', 'the', 'gradual', 'lessening', 'of', 'the', 'dominance', 'of', 'chomskyan', 'theories', 'of', 'linguistics', '(', 'e', '.', 'g', '.', 'transformational', 'grammar', '),', 'whose', 'theoretical', 'underpinnings', 'discouraged', 'the', 'sort', 'of', 'corpus', 'linguistics', 'that', 'underlies', 'the', 'machine', '-', 'learning', 'approach', 'to', 'language', 'processing', '.[', '3', ']', 'some', 'of', 'the', 'earliest', '-', 'used', 'machine', 'learning', 'algorithms', ',', 'such', 'as', 'decision', 'trees', ',', 'produced', 'systems', 'of', 'hard', 'if', '-', 'then', 'rules', 'similar', 'to', 'existing', 'hand', '-', 'written', 'rules', '.', 'however', ',', 'part', '-', 'of', '-', 'speech', 'tagging', 'introduced', 'the', 'use', 'of', 'hidden', 'markov', 'models', 'to', 'natural', 'language', 'processing', ',', 'and', 'increasingly', ',', 'research', 'has', 'focused', 'on', 'statistical', 'models', ',', 'which', 'make', 'soft', ',', 'probabilistic', 'decisions', 'based', 'on', 'attaching', 'real', '-', 'valued', 'weights', 'to', 'the', 'features', 'making', 'up', 'the', 'input', 'data', '.', 'the', 'cache', 'language', 'models', 'upon', 'which', 'many', 'speech', 'recognition', 'systems', 'now', 'rely', 'are', 'examples', 'of', 'such', 'statistical', 'models', '.', 'such', 'models', 'are', 'generally', 'more', 'robust', 'when', 'given', 'unfamiliar', 'input', ',', 'especially', 'input', 'that', 'contains', 'errors', '(', 'as', 'is', 'very', 'common', 'for', 'real', '-', 'world', 'data', '),', 'and', 'produce', 'more', 'reliable', 'results', 'when', 'integrated', 'into', 'a', 'larger', 'system', 'comprising', 'multiple', 'subtasks', '.']\n"
     ]
    }
   ],
   "source": [
    "#Tokenization using word tokenizer\n",
    "tokenized_list = word_tokenize(lower_case)\n",
    "print(tokenized_list)\n",
    "\n",
    "#Tokenization using word punct tokenizer\n",
    "punct_tokenized_list = wordpunct_tokenize(lower_case)\n",
    "print(punct_tokenized_list)"
   ]
  },
  {
   "cell_type": "code",
   "execution_count": null,
   "metadata": {
    "id": "jyKalcF_mYK8"
   },
   "outputs": [],
   "source": []
  },
  {
   "cell_type": "code",
   "execution_count": 6,
   "metadata": {
    "id": "BWRTo8l2o1xE"
   },
   "outputs": [
    {
     "name": "stdout",
     "output_type": "stream",
     "text": [
      "{'1966.', ',', 'some', 'worlds', 'lehnert', 'research', 'earlier', 'head', 'many', 'based', 'alpac', 'when', 'almost', 'claimed', '?', 'meehan', 'time', 'soft', 'more', 'dramatically', 'began', 'periods', 'intelligence', '1981', \"'s\", 'titled', 'data', 'pam', 'processing', '1978', 'discouraged', 'due', 'an', 'focused', 'tagging', 'common', 'published', 'as', 'revolution', 'real-world', 'three', 'see', 'sixty', 'rogerian', 'which', 'involved', 'especially', 'has', \"''\", 'wilensky', 'in', 'examples', '1977', 'up', 'criterion', 'racter', 'late', 'base', 'problem', 'robust', 'automatic', 'proposed', 'why', 'jabberwacky', 'sam', 'power', 'corpus', 'slower', 'probabilistic', 'about', '2', '#', '.', 'found', 'what', 'notably', 'system', 'psychotherapist', 'of', 'by', 'human', 'units', 'increase', 'grammar', 'shrdlu', '.during', 'law', 'my', 'than', 'after', 'translation', 'write', 'theoretical', '[', 'sort', 'although', ')', 'started', 'real', 'existing', '1954', 'unfamiliar', 'english', 'cullingford', 'during', 'decision', 'programmers', 'startlingly', 'models', 'experiment', 'exceeded', 'was', 'sometimes', 'increasingly', 'rely', 'markov', 'complex', 'funding', 'this', 'there', 'structured', 'introduction', 'gradual', 'subtasks', 'moore', 'progress', 'to', 'a', '``', 'much', 'thought', 'dominance', 'approach', 'called', 'decisions', 'on', 'weights', 'provide', 'statistical', 'language', 'reduced', '1964', 'successful', 'learning', 'written', 'qualm', 'earliest-used', 'ten-year-long', 'if-then', 'attaching', 'georgetown', 'linguistics', 'machine-learning', 'are', 'upon', 'natural', 'solved', 'emotion', 'first', 'starting', 'failed', 'hard', 'provided', 'systems', 'working', 'between', 'algorithms', 'can', 'history', 'would', 'had', 'for', 'blocks', 'until', '1979', 'such', 'hand-written', 'expectations', 'use', 'little', '1975', 'article', 'you', 'and', 'rules', 'responding', 'turing', 'cache', 'your', 'small', '3', 'schank', 'with', '(', 'fully', 'knowledge', 'example', 'produced', ']', 'developed', 'into', 'weizenbaum', 'speech', 'might', '1970s', 'underpinnings', '1950s', 'that', '1960s', 'plot', 'both', 'contains', 'sentences', 'input', 'including', 'most', 'part-of-speech', 'whose', 'real-valued', 'further', 'talespin', 'vocabularies', 'transformational', 'trees', 'similar', 'using', 'human-like', 'comprising', 'reliable', 'alan', '1980s', 'make', 'test', 'sets', 'hidden', 'were', 'work', 'underlies', 'produce', 'now', 'ontologies', '1950', 'theories', 'response', 'chatterbots', 'features', 'or', 'politics', 'margie', 'restricted', 'hurts', 'lessening', 'no', 'generic', 'introduced', 'interaction', 'steady', 'e.g', 'however', 'patient', 'errors', 'say', 'generally', 'from', 'information', '1976', 'computational', 'eliza', 'integrated', 'parry', 'report', 'years', 'five', 'authors', 'is', 'joseph', 'given', 'carbonell', 'larger', '1966', 'simulation', 'recognition', 'multiple', 'making', 'conducted', 'do', 'be', 'chomskyan', 'russian', 'very', 'conceptual', 'computer-understandable', 'machine', 'the', 'results', 'fulfill', 'within'}\n"
     ]
    }
   ],
   "source": [
    "#Get Vocabulary\n",
    "vocab_set = set(tokenized_list)\n",
    "print(vocab_set)"
   ]
  },
  {
   "cell_type": "code",
   "execution_count": 7,
   "metadata": {
    "id": "7_bdx6slpU5D"
   },
   "outputs": [
    {
     "name": "stdout",
     "output_type": "stream",
     "text": [
      "{'1966.', ',', 'worlds', 'lehnert', 'research', 'earlier', 'head', 'many', 'based', 'alpac', 'almost', '?', 'claimed', 'meehan', 'time', 'soft', 'dramatically', 'began', 'periods', 'intelligence', '1981', \"'s\", 'titled', 'data', 'pam', 'processing', '1978', 'discouraged', 'due', 'focused', 'tagging', 'common', 'published', 'revolution', 'real-world', 'three', 'see', 'sixty', 'rogerian', 'especially', 'involved', \"''\", 'wilensky', 'examples', '1977', 'criterion', 'racter', 'late', 'base', 'problem', 'robust', 'automatic', 'proposed', 'power', 'jabberwacky', 'sam', 'corpus', 'slower', 'probabilistic', '2', '#', 'notably', '.', 'found', 'system', 'psychotherapist', 'models', 'human', 'units', 'increase', 'grammar', 'shrdlu', '.during', 'law', 'write', 'sort', 'theoretical', 'translation', 'existing', '[', 'although', ')', 'started', 'real', '1954', 'english', 'cullingford', 'decision', 'programmers', 'startlingly', 'increasingly', 'experiment', 'exceeded', 'rely', 'sometimes', 'markov', 'complex', 'funding', 'gradual', 'subtasks', 'structured', 'introduction', 'moore', 'progress', 'dominance', '``', 'much', 'thought', 'approach', 'called', 'decisions', 'weights', 'provide', 'statistical', 'language', 'reduced', '1964', 'successful', 'learning', 'written', 'qualm', 'earliest-used', 'ten-year-long', 'if-then', 'attaching', 'georgetown', 'linguistics', 'machine-learning', 'upon', 'natural', 'solved', 'emotion', 'first', 'starting', 'failed', 'hard', 'provided', 'systems', 'working', 'algorithms', 'would', 'history', '1979', 'unfamiliar', 'use', 'blocks', 'hand-written', 'expectations', 'little', '1975', 'article', 'rules', 'responding', 'turing', 'cache', 'small', '3', 'schank', '(', 'fully', 'knowledge', 'example', 'produced', ']', 'developed', 'weizenbaum', 'speech', 'might', '1970s', 'underpinnings', '1950s', '1960s', 'plot', 'contains', 'sentences', 'input', 'including', 'part-of-speech', 'whose', 'real-valued', 'talespin', 'trees', 'vocabularies', 'transformational', 'comprising', 'similar', 'using', 'human-like', 'reliable', '1980s', 'alan', 'make', 'test', 'sets', 'hidden', 'work', 'underlies', 'produce', 'ontologies', '1950', 'theories', 'response', 'chatterbots', 'features', 'politics', 'margie', 'restricted', 'hurts', 'lessening', 'introduced', 'generic', 'interaction', 'steady', 'e.g', 'however', 'patient', 'errors', 'say', 'generally', 'information', '1976', 'computational', 'eliza', 'integrated', 'parry', 'report', 'years', 'five', 'authors', 'joseph', 'given', 'larger', 'carbonell', 'multiple', '1966', 'simulation', 'recognition', 'making', 'conducted', 'chomskyan', 'russian', 'conceptual', 'computer-understandable', 'machine', 'results', 'fulfill', 'within'}\n"
     ]
    }
   ],
   "source": [
    "#Remove stopwords\n",
    "set_wo_stopwords = {word for word in tokenized_list if word not in stopwords.words('english')}\n",
    "print(set_wo_stopwords)"
   ]
  },
  {
   "cell_type": "code",
   "execution_count": 8,
   "metadata": {
    "id": "MQ_VMcDRp_L5"
   },
   "outputs": [
    {
     "name": "stdout",
     "output_type": "stream",
     "text": [
      "{'1966.', 'worlds', 'lehnert', 'research', 'earlier', 'head', 'many', 'based', 'alpac', 'almost', 'time', 'claimed', 'meehan', 'soft', 'began', 'dramatically', 'periods', 'intelligence', '1981', \"'s\", 'titled', 'data', 'pam', 'processing', '1978', 'discouraged', 'due', 'focused', 'tagging', 'common', 'published', 'revolution', 'real-world', 'three', 'see', 'sixty', 'rogerian', 'especially', 'involved', \"''\", 'wilensky', 'examples', '1977', 'criterion', 'racter', 'late', 'base', 'problem', 'robust', 'automatic', 'proposed', 'power', 'jabberwacky', 'sam', 'corpus', 'slower', 'probabilistic', '2', 'psychotherapist', 'notably', 'system', 'models', 'found', 'human', 'units', 'increase', 'grammar', 'shrdlu', '.during', 'law', 'sort', 'write', 'theoretical', 'translation', 'existing', 'although', 'started', 'real', '1954', 'english', 'cullingford', 'decision', 'programmers', 'startlingly', 'increasingly', 'experiment', 'exceeded', 'rely', 'sometimes', 'markov', 'complex', 'funding', 'gradual', 'subtasks', 'structured', 'introduction', 'moore', 'progress', 'dominance', '``', 'much', 'thought', 'approach', 'called', 'decisions', 'weights', 'provide', 'statistical', 'language', 'reduced', '1964', 'successful', 'learning', 'written', 'qualm', 'earliest-used', 'ten-year-long', 'if-then', 'attaching', 'georgetown', 'linguistics', 'machine-learning', 'upon', 'natural', 'solved', 'emotion', 'first', 'starting', 'failed', 'hard', 'provided', 'systems', 'working', 'algorithms', 'would', 'history', '1979', 'unfamiliar', 'use', 'blocks', 'hand-written', 'expectations', 'little', '1975', 'article', 'rules', 'responding', 'turing', 'cache', 'small', '3', 'schank', 'fully', 'knowledge', 'example', 'produced', 'developed', 'weizenbaum', 'speech', 'might', '1970s', 'underpinnings', '1950s', '1960s', 'plot', 'contains', 'sentences', 'input', 'including', 'part-of-speech', 'whose', 'real-valued', 'talespin', 'trees', 'vocabularies', 'transformational', 'comprising', 'similar', 'using', 'human-like', 'reliable', '1980s', 'alan', 'make', 'test', 'sets', 'hidden', 'work', 'underlies', 'produce', 'ontologies', '1950', 'theories', 'response', 'chatterbots', 'features', 'politics', 'margie', 'restricted', 'hurts', 'lessening', 'introduced', 'generic', 'interaction', 'steady', 'e.g', 'however', 'patient', 'errors', 'say', 'generally', 'information', '1976', 'computational', 'eliza', 'integrated', 'parry', 'report', 'years', 'five', 'authors', 'joseph', 'given', 'larger', 'carbonell', 'multiple', '1966', 'simulation', 'recognition', 'making', 'conducted', 'chomskyan', 'russian', 'conceptual', 'computer-understandable', 'machine', 'results', 'fulfill', 'within'}\n"
     ]
    }
   ],
   "source": [
    "#Remove Punctuations\n",
    "set_wo_punctuations = {word for word in set_wo_stopwords if word not in punctuation}\n",
    "print(set_wo_punctuations)"
   ]
  },
  {
   "cell_type": "code",
   "execution_count": 9,
   "metadata": {
    "id": "jRUCQ_r1qJCV"
   },
   "outputs": [
    {
     "name": "stdout",
     "output_type": "stream",
     "text": [
      "['1966.', 'world', 'lehnert', 'research', 'earlier', 'head', 'mani', 'base', 'alpac', 'almost', 'time', 'claim', 'meehan', 'soft', 'began', 'dramat', 'period', 'intellig', '1981', \"'s\", 'titl', 'data', 'pam', 'process', '1978', 'discourag', 'due', 'focus', 'tag', 'common', 'publish', 'revolut', 'real-world', 'three', 'see', 'sixti', 'rogerian', 'especi', 'involv', \"''\", 'wilenski', 'exampl', '1977', 'criterion', 'racter', 'late', 'base', 'problem', 'robust', 'automat', 'propos', 'power', 'jabberwacki', 'sam', 'corpus', 'slower', 'probabilist', '2', 'psychotherapist', 'notabl', 'system', 'model', 'found', 'human', 'unit', 'increas', 'grammar', 'shrdlu', '.dure', 'law', 'sort', 'write', 'theoret', 'translat', 'exist', 'although', 'start', 'real', '1954', 'english', 'cullingford', 'decis', 'programm', 'startl', 'increas', 'experi', 'exceed', 'reli', 'sometim', 'markov', 'complex', 'fund', 'gradual', 'subtask', 'structur', 'introduct', 'moor', 'progress', 'domin', '``', 'much', 'thought', 'approach', 'call', 'decis', 'weight', 'provid', 'statist', 'languag', 'reduc', '1964', 'success', 'learn', 'written', 'qualm', 'earliest-us', 'ten-year-long', 'if-then', 'attach', 'georgetown', 'linguist', 'machine-learn', 'upon', 'natur', 'solv', 'emot', 'first', 'start', 'fail', 'hard', 'provid', 'system', 'work', 'algorithm', 'would', 'histori', '1979', 'unfamiliar', 'use', 'block', 'hand-written', 'expect', 'littl', '1975', 'articl', 'rule', 'respond', 'ture', 'cach', 'small', '3', 'schank', 'fulli', 'knowledg', 'exampl', 'produc', 'develop', 'weizenbaum', 'speech', 'might', '1970s', 'underpin', '1950s', '1960s', 'plot', 'contain', 'sentenc', 'input', 'includ', 'part-of-speech', 'whose', 'real-valu', 'talespin', 'tree', 'vocabulari', 'transform', 'compris', 'similar', 'use', 'human-lik', 'reliabl', '1980s', 'alan', 'make', 'test', 'set', 'hidden', 'work', 'under', 'produc', 'ontolog', '1950', 'theori', 'respons', 'chatterbot', 'featur', 'polit', 'margi', 'restrict', 'hurt', 'lessen', 'introduc', 'generic', 'interact', 'steadi', 'e.g', 'howev', 'patient', 'error', 'say', 'general', 'inform', '1976', 'comput', 'eliza', 'integr', 'parri', 'report', 'year', 'five', 'author', 'joseph', 'given', 'larger', 'carbonel', 'multipl', '1966', 'simul', 'recognit', 'make', 'conduct', 'chomskyan', 'russian', 'conceptu', 'computer-understand', 'machin', 'result', 'fulfil', 'within']\n"
     ]
    }
   ],
   "source": [
    "#Stemming\n",
    "stemmed_list=[]\n",
    "stemObj = SnowballStemmer(\"english\")\n",
    "for i in set_wo_punctuations:\n",
    "    stemmed_list.append(stemObj.stem(i))\n",
    "print(stemmed_list)"
   ]
  },
  {
   "cell_type": "code",
   "execution_count": 10,
   "metadata": {},
   "outputs": [
    {
     "name": "stdout",
     "output_type": "stream",
     "text": [
      "[('1966.', 'CD'), ('worlds', 'NNS'), ('lehnert', 'JJ'), ('research', 'NN'), ('earlier', 'RBR'), ('head', 'NN'), ('many', 'JJ'), ('based', 'VBN'), ('alpac', 'RB'), ('almost', 'RB'), ('time', 'NN'), ('claimed', 'VBD'), ('meehan', 'JJ'), ('soft', 'JJ'), ('began', 'VBD'), ('dramatically', 'RB'), ('periods', 'NNS'), ('intelligence', 'NN'), ('1981', 'CD'), (\"'s\", 'POS'), ('titled', 'VBN'), ('data', 'NNS'), ('pam', 'NN'), ('processing', 'NN'), ('1978', 'CD'), ('discouraged', 'VBD'), ('due', 'JJ'), ('focused', 'VBD'), ('tagging', 'VBG'), ('common', 'JJ'), ('published', 'VBN'), ('revolution', 'NN'), ('real-world', 'NN'), ('three', 'CD'), ('see', 'NN'), ('sixty', 'JJ'), ('rogerian', 'JJ'), ('especially', 'RB'), ('involved', 'JJ'), (\"''\", \"''\"), ('wilensky', 'NN'), ('examples', 'VBZ'), ('1977', 'CD'), ('criterion', 'NN'), ('racter', 'NN'), ('late', 'JJ'), ('base', 'NN'), ('problem', 'NN'), ('robust', 'JJ'), ('automatic', 'NN'), ('proposed', 'VBD'), ('power', 'NN'), ('jabberwacky', 'NN'), ('sam', 'NN'), ('corpus', 'NN'), ('slower', 'JJR'), ('probabilistic', 'JJ'), ('2', 'CD'), ('psychotherapist', 'NN'), ('notably', 'RB'), ('system', 'NN'), ('models', 'NNS'), ('found', 'VBN'), ('human', 'JJ'), ('units', 'NNS'), ('increase', 'VB'), ('grammar', 'NN'), ('shrdlu', 'JJ'), ('.during', 'VBG'), ('law', 'NN'), ('sort', 'NN'), ('write', 'JJ'), ('theoretical', 'JJ'), ('translation', 'NN'), ('existing', 'VBG'), ('although', 'IN'), ('started', 'VBN'), ('real', 'JJ'), ('1954', 'CD'), ('english', 'JJ'), ('cullingford', 'NN'), ('decision', 'NN'), ('programmers', 'NNS'), ('startlingly', 'RB'), ('increasingly', 'RB'), ('experiment', 'JJ'), ('exceeded', 'VBD'), ('rely', 'RB'), ('sometimes', 'RB'), ('markov', 'VB'), ('complex', 'JJ'), ('funding', 'NN'), ('gradual', 'JJ'), ('subtasks', 'NNS'), ('structured', 'VBN'), ('introduction', 'NN'), ('moore', 'NN'), ('progress', 'NN'), ('dominance', 'NN'), ('``', '``'), ('much', 'JJ'), ('thought', 'NN'), ('approach', 'NN'), ('called', 'VBD'), ('decisions', 'NNS'), ('weights', 'NNS'), ('provide', 'VBP'), ('statistical', 'JJ'), ('language', 'NN'), ('reduced', 'VBD'), ('1964', 'CD'), ('successful', 'JJ'), ('learning', 'VBG'), ('written', 'VBN'), ('qualm', 'JJ'), ('earliest-used', 'JJ'), ('ten-year-long', 'JJ'), ('if-then', 'JJ'), ('attaching', 'VBG'), ('georgetown', 'JJ'), ('linguistics', 'NNS'), ('machine-learning', 'JJ'), ('upon', 'IN'), ('natural', 'JJ'), ('solved', 'VBD'), ('emotion', 'NN'), ('first', 'RB'), ('starting', 'VBG'), ('failed', 'VBN'), ('hard', 'RB'), ('provided', 'VBN'), ('systems', 'NNS'), ('working', 'VBG'), ('algorithms', 'NN'), ('would', 'MD'), ('history', 'NN'), ('1979', 'CD'), ('unfamiliar', 'NN'), ('use', 'NN'), ('blocks', 'VBZ'), ('hand-written', 'JJ'), ('expectations', 'NNS'), ('little', 'JJ'), ('1975', 'CD'), ('article', 'NN'), ('rules', 'NNS'), ('responding', 'VBG'), ('turing', 'VBG'), ('cache', 'NN'), ('small', 'JJ'), ('3', 'CD'), ('schank', 'JJ'), ('fully', 'RB'), ('knowledge', 'VBP'), ('example', 'NN'), ('produced', 'VBN'), ('developed', 'VBD'), ('weizenbaum', 'NNS'), ('speech', 'NN'), ('might', 'MD'), ('1970s', 'CD'), ('underpinnings', 'NNS'), ('1950s', 'CD'), ('1960s', 'CD'), ('plot', 'NN'), ('contains', 'NNS'), ('sentences', 'NNS'), ('input', 'VBP'), ('including', 'VBG'), ('part-of-speech', 'JJ'), ('whose', 'WP$'), ('real-valued', 'JJ'), ('talespin', 'NN'), ('trees', 'NNS'), ('vocabularies', 'NNS'), ('transformational', 'JJ'), ('comprising', 'VBG'), ('similar', 'JJ'), ('using', 'VBG'), ('human-like', 'JJ'), ('reliable', 'JJ'), ('1980s', 'CD'), ('alan', 'JJ'), ('make', 'VBP'), ('test', 'JJ'), ('sets', 'NNS'), ('hidden', 'VBP'), ('work', 'NN'), ('underlies', 'NNS'), ('produce', 'VBP'), ('ontologies', 'NNS'), ('1950', 'CD'), ('theories', 'NNS'), ('response', 'NN'), ('chatterbots', 'NNS'), ('features', 'VBZ'), ('politics', 'NNS'), ('margie', 'NN'), ('restricted', 'VBD'), ('hurts', 'NNS'), ('lessening', 'VBG'), ('introduced', 'VBD'), ('generic', 'JJ'), ('interaction', 'NN'), ('steady', 'JJ'), ('e.g', 'NN'), ('however', 'RB'), ('patient', 'JJ'), ('errors', 'NNS'), ('say', 'VBP'), ('generally', 'RB'), ('information', 'NN'), ('1976', 'CD'), ('computational', 'JJ'), ('eliza', 'NN'), ('integrated', 'VBN'), ('parry', 'JJ'), ('report', 'NN'), ('years', 'NNS'), ('five', 'CD'), ('authors', 'NNS'), ('joseph', 'VBD'), ('given', 'VBN'), ('larger', 'JJR'), ('carbonell', 'NN'), ('multiple', 'JJ'), ('1966', 'CD'), ('simulation', 'NN'), ('recognition', 'NN'), ('making', 'VBG'), ('conducted', 'VBN'), ('chomskyan', 'JJ'), ('russian', 'JJ'), ('conceptual', 'JJ'), ('computer-understandable', 'JJ'), ('machine', 'NN'), ('results', 'NNS'), ('fulfill', 'VB'), ('within', 'IN')]\n"
     ]
    }
   ],
   "source": [
    "#Parts of Speech Tagging\n",
    "pos_tag_list = pos_tag(set_wo_punctuations)\n",
    "\n",
    "print(pos_tag_list)"
   ]
  },
  {
   "cell_type": "code",
   "execution_count": 11,
   "metadata": {},
   "outputs": [
    {
     "name": "stdout",
     "output_type": "stream",
     "text": [
      "['1966.', 'world', 'lehnert', 'research', 'earlier', 'head', 'many', 'base', 'alpac', 'almost', 'time', 'claim', 'meehan', 'soft', 'begin', 'dramatically', 'period', 'intelligence', '1981', \"'s\", 'title', 'data', 'pam', 'processing', '1978', 'discourage', 'due', 'focus', 'tag', 'common', 'publish', 'revolution', 'real-world', 'three', 'see', 'sixty', 'rogerian', 'especially', 'involved', \"''\", 'wilensky', 'examples', '1977', 'criterion', 'racter', 'late', 'base', 'problem', 'robust', 'automatic', 'propose', 'power', 'jabberwacky', 'sam', 'corpus', 'slow', 'probabilistic', '2', 'psychotherapist', 'notably', 'system', 'model', 'find', 'human', 'unit', 'increase', 'grammar', 'shrdlu', '.during', 'law', 'sort', 'write', 'theoretical', 'translation', 'exist', 'although', 'start', 'real', '1954', 'english', 'cullingford', 'decision', 'programmer', 'startlingly', 'increasingly', 'experiment', 'exceed', 'rely', 'sometimes', 'markov', 'complex', 'funding', 'gradual', 'subtasks', 'structure', 'introduction', 'moore', 'progress', 'dominance', '``', 'much', 'thought', 'approach', 'call', 'decision', 'weight', 'provide', 'statistical', 'language', 'reduce', '1964', 'successful', 'learn', 'write', 'qualm', 'earliest-used', 'ten-year-long', 'if-then', 'attach', 'georgetown', 'linguistics', 'machine-learning', 'upon', 'natural', 'solve', 'emotion', 'first', 'start', 'fail', 'hard', 'provide', 'system', 'work', 'algorithm', 'would', 'history', '1979', 'unfamiliar', 'use', 'block', 'hand-written', 'expectation', 'little', '1975', 'article', 'rule', 'respond', 'turing', 'cache', 'small', '3', 'schank', 'fully', 'knowledge', 'example', 'produce', 'develop', 'weizenbaum', 'speech', 'might', '1970s', 'underpinnings', '1950s', '1960s', 'plot', 'contains', 'sentence', 'input', 'include', 'part-of-speech', 'whose', 'real-valued', 'talespin', 'tree', 'vocabulary', 'transformational', 'comprise', 'similar', 'use', 'human-like', 'reliable', '1980s', 'alan', 'make', 'test', 'set', 'hide', 'work', 'underlies', 'produce', 'ontology', '1950', 'theory', 'response', 'chatterbots', 'feature', 'politics', 'margie', 'restrict', 'hurt', 'lessen', 'introduce', 'generic', 'interaction', 'steady', 'e.g', 'however', 'patient', 'error', 'say', 'generally', 'information', '1976', 'computational', 'eliza', 'integrate', 'parry', 'report', 'year', 'five', 'author', 'joseph', 'give', 'large', 'carbonell', 'multiple', '1966', 'simulation', 'recognition', 'make', 'conduct', 'chomskyan', 'russian', 'conceptual', 'computer-understandable', 'machine', 'result', 'fulfill', 'within']\n"
     ]
    }
   ],
   "source": [
    "#for getting POS\n",
    "\n",
    "def parts_of_speech(pos):\n",
    "    if pos.startswith(\"N\"):\n",
    "        return wordnet.NOUN\n",
    "    elif pos.startswith(\"J\"):\n",
    "        return wordnet.ADJ\n",
    "    elif pos.startswith(\"V\"):\n",
    "        return wordnet.VERB\n",
    "    elif pos.startswith(\"R\"):\n",
    "        return wordnet.ADV\n",
    "    elif pos.startswith(\"S\"):\n",
    "        return wordnet.ADJ_SAT\n",
    "    else:\n",
    "        return''\n",
    "\n",
    "#Lemmatization\n",
    "lemma_list=[]\n",
    "lemmaObj = WordNetLemmatizer()\n",
    "for word ,pos in pos_tag_list:\n",
    "   get_pos = parts_of_speech(pos)\n",
    "   if get_pos != '':\n",
    "    lemma_list.append(lemmaObj.lemmatize(word, pos=get_pos))\n",
    "   else:\n",
    "    lemma_list.append(word)\n",
    "print(lemma_list)\n",
    "    \n",
    "    "
   ]
  },
  {
   "cell_type": "code",
   "execution_count": 12,
   "metadata": {},
   "outputs": [
    {
     "name": "stdout",
     "output_type": "stream",
     "text": [
      "<zip object at 0x000001CAC5FABF00>\n"
     ]
    }
   ],
   "source": [
    "#Create ngrams\n",
    "bigrams = ngrams(set_wo_punctuations,2)\n",
    "print(bigrams)"
   ]
  },
  {
   "cell_type": "code",
   "execution_count": null,
   "metadata": {},
   "outputs": [],
   "source": []
  }
 ],
 "metadata": {
  "colab": {
   "provenance": []
  },
  "kernelspec": {
   "display_name": "Python 3 (ipykernel)",
   "language": "python",
   "name": "python3"
  },
  "language_info": {
   "codemirror_mode": {
    "name": "ipython",
    "version": 3
   },
   "file_extension": ".py",
   "mimetype": "text/x-python",
   "name": "python",
   "nbconvert_exporter": "python",
   "pygments_lexer": "ipython3",
   "version": "3.12.4"
  }
 },
 "nbformat": 4,
 "nbformat_minor": 4
}
